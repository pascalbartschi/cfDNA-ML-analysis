{
 "cells": [
  {
   "cell_type": "markdown",
   "id": "cdf93e49",
   "metadata": {},
   "source": [
    "# Implement K-Fold Cross Validation"
   ]
  },
  {
   "cell_type": "markdown",
   "id": "6f1eb62d",
   "metadata": {},
   "source": [
    "### import functions"
   ]
  },
  {
   "cell_type": "code",
   "execution_count": 9,
   "id": "b081b5d8",
   "metadata": {},
   "outputs": [],
   "source": [
    "# import\n",
    "import pandas as pd\n",
    "import numpy as np\n",
    "import seaborn as sns\n",
    "import matplotlib.pyplot as plt\n",
    "from sklearn.neighbors import KNeighborsClassifier\n",
    "from sklearn.linear_model import LogisticRegression\n",
    "from sklearn.ensemble import RandomForestClassifier\n",
    "from sklearn.model_selection import train_test_split, KFold\n",
    "from sklearn.preprocessing import StandardScaler\n",
    "from sklearn.metrics import classification_report, f1_score, accuracy_score\n"
   ]
  },
  {
   "cell_type": "markdown",
   "id": "fa725544",
   "metadata": {},
   "source": [
    "### Data Loading"
   ]
  },
  {
   "cell_type": "code",
   "execution_count": 10,
   "id": "1e1748f1",
   "metadata": {},
   "outputs": [],
   "source": [
    "labels = pd.read_csv(\"Results/Machine_Learning/sample_map_ML.csv\")\n",
    "features  = pd.read_csv(\"Results/Machine_Learning/fragment_features_CNA_ML.csv\")\n",
    "# convert to long\n",
    "features = pd.pivot(data = features, index = \"sample\", columns = \"length\", values = \"count\")\n",
    "# convert into binary column\n",
    "cancer_list = [\"A\", \"B\", \"C\", \"Lung\", \"Breast\"]\n",
    "\n",
    "def binary(df):\n",
    "    df[\"cancer\"] = np.where(df[\"diagnosis\"].isin(cancer_list), 1, 0)\n",
    "    \n",
    "    \n",
    "    return df\n",
    "\n",
    "# apply function and reshape df\n",
    "labels = binary(labels)\n",
    "labels.drop(columns = [\"diagnosis\"], inplace = True)\n",
    "labels.set_index(\"sample\", inplace = True)\n",
    "\n",
    "# convert into numpy vectors\n",
    "features = features.to_numpy(copy=True) \n",
    "labels = labels.to_numpy(copy=True)"
   ]
  },
  {
   "cell_type": "markdown",
   "id": "46a1b21a",
   "metadata": {},
   "source": [
    "### Train test split & kFold"
   ]
  },
  {
   "cell_type": "code",
   "execution_count": 11,
   "id": "7dc58f04",
   "metadata": {},
   "outputs": [],
   "source": [
    "\n",
    "def CV_analysis(split_, n_params, t_knn, t_logReg, t_ranFor):\n",
    "    F1_matrix_knn = {\"n_neighbors\": []}\n",
    "    F1_matrix_logReg = {\"C_value\": []}\n",
    "    F1_matrix_ranFor = {\"n_estimators\": []}\n",
    "\n",
    "\n",
    "    for index, (i_train, i_valid) in enumerate(split_):\n",
    "        # splitting into train and validation set\n",
    "        X_train, X_valid = X[i_train], X[i_valid]\n",
    "        y_train, y_valid = y[i_train], y[i_valid]\n",
    "        \n",
    "        transformer = StandardScaler().fit(X_train) # compute mean, std on train\n",
    "        X_valid = transformer.transform(X_valid)  # use same transformer for both, mimics that we do not know train data\n",
    "        X_train = transformer.transform(X_train)\n",
    "\n",
    "        # loop through each classifier, fit and predict the validation set\n",
    "\n",
    "        for n_neighbors in np.linspace(t_knn[0], t_knn[1], n_params, dtype = \"int\"):\n",
    "\n",
    "            # construct new Fi columns if i doesnt exist     \n",
    "            if \"F\" + str(index+1) not in F1_matrix_knn.keys():\n",
    "                F1_matrix_knn[\"F\" + str(index+1)] = []\n",
    "\n",
    "            # fit and predict with classifier\n",
    "            knn = KNeighborsClassifier(n_neighbors=n_neighbors)\n",
    "            knn.fit(X_train, y_train)\n",
    "            y_predict = knn.predict(X_valid)\n",
    "\n",
    "            # insert F1 value in matrix\n",
    "            F1_matrix_knn[\"F\" + str(index+1)].append(f1_score(y_valid, y_predict, average = \"macro\"))\n",
    "\n",
    "            # for index labeling with paramters\n",
    "            if n_neighbors not in F1_matrix_knn[\"n_neighbors\"]:\n",
    "                F1_matrix_knn[\"n_neighbors\"].append(n_neighbors)\n",
    "                \n",
    "           # print(\"KNN: {} accuracy train: {} vs. valid {}\".format(n_neighbors,\n",
    "           #                                                      accuracy_score(y_train, knn.predict(X_train)),\n",
    "           #                                                      accuracy_score(y_valid, knn.predict(X_valid))))\n",
    "            \n",
    "            \n",
    "\n",
    "        # same as above        \n",
    "        for C_value in np.linspace(t_logReg[0], t_logReg[1], n_params):\n",
    "\n",
    "\n",
    "            if \"F\" + str(index+1) not in F1_matrix_logReg.keys():\n",
    "\n",
    "                F1_matrix_logReg[\"F\" + str(index+1)] = []\n",
    "\n",
    "            logReg = LogisticRegression(penalty = \"l1\", solver = \"liblinear\", max_iter = 1000, C = C_value)\n",
    "            logReg.fit(X_train, y_train)\n",
    "            y_predict = logReg.predict(X_valid)\n",
    "\n",
    "            F1_matrix_logReg[\"F\" + str(index+1)].append(f1_score(y_valid, y_predict, average = \"macro\"))\n",
    "\n",
    "            if C_value not in F1_matrix_logReg[\"C_value\"]:\n",
    "                F1_matrix_logReg[\"C_value\"].append(C_value)\n",
    "                \n",
    "            # print(\"LogReg: {} accuracy train: {} vs. valid {}\".format(C_value,\n",
    "            #                                                     accuracy_score(y_train, logReg.predict(X_train)),\n",
    "            #                                                     accuracy_score(y_valid, logReg.predict(X_valid))))\n",
    "\n",
    "        # same as above        \n",
    "        for n_estimators in np.linspace(t_ranFor[0], t_ranFor[1], n_params, dtype = \"int\"):\n",
    "\n",
    "\n",
    "            if \"F\" + str(index+1) not in F1_matrix_ranFor.keys():\n",
    "\n",
    "                F1_matrix_ranFor[\"F\" + str(index+1)] = []\n",
    "\n",
    "            ranFor = RandomForestClassifier(n_estimators = n_estimators, max_depth = 6) \n",
    "            ranFor.fit(X_train, y_train)\n",
    "            y_predict = ranFor.predict(X_valid)\n",
    "\n",
    "            F1_matrix_ranFor[\"F\" + str(index+1)].append(f1_score(y_valid, y_predict, average = \"macro\"))\n",
    "\n",
    "            if n_estimators not in F1_matrix_ranFor[\"n_estimators\"]:\n",
    "                F1_matrix_ranFor[\"n_estimators\"].append(n_estimators)\n",
    "                \n",
    "            # print(\"ranFor: {} accuracy train: {} vs. valid {}\".format(n_estimators,\n",
    "            #                                                      accuracy_score(y_train, ranFor.predict(X_train)),\n",
    "            #                                                      accuracy_score(y_valid, ranFor.predict(X_valid))))\n",
    "\n",
    "\n",
    "    F1_knn = pd.DataFrame(F1_matrix_knn)\n",
    "    F1_knn.set_index(\"n_neighbors\", inplace = True)\n",
    "    F1_knn = F1_knn.round(decimals = 4)\n",
    "\n",
    "    F1_logReg = pd.DataFrame(F1_matrix_logReg)\n",
    "    F1_logReg.set_index(\"C_value\", inplace = True)\n",
    "    F1_logReg = F1_logReg.round(decimals = 4)\n",
    "\n",
    "    F1_ranFor = pd.DataFrame(F1_matrix_ranFor)\n",
    "    F1_ranFor.set_index(\"n_estimators\", inplace = True)\n",
    "    F1_ranFor = F1_ranFor.round(decimals = 4)\n",
    "    \n",
    "    return F1_knn, F1_logReg, F1_ranFor\n",
    "            \n",
    "            \n",
    "    \n"
   ]
  },
  {
   "cell_type": "code",
   "execution_count": 12,
   "id": "e6dc4dea",
   "metadata": {},
   "outputs": [],
   "source": [
    "X, y = features, labels.ravel()\n",
    "X_train, X_test, y_train, y_test = train_test_split(X, y, test_size=0.2, random_state=33, shuffle = True)\n",
    "\n",
    "kf = KFold(n_splits=5, shuffle=True, random_state=33)\n",
    "split_ = kf.split(X_train)\n",
    "\n",
    "\n",
    "n_params = 3\n",
    "t_knn = (4, 6)\n",
    "t_logReg = (0.01, 1000)\n",
    "t_ranFor = (45, 55)\n",
    "# call func\n",
    "F1_knn, F1_logReg, F1_ranFor = CV_analysis(split_, n_params, t_knn, t_logReg, t_ranFor)"
   ]
  },
  {
   "cell_type": "code",
   "execution_count": 13,
   "id": "75d5fe1f",
   "metadata": {},
   "outputs": [
    {
     "name": "stdout",
     "output_type": "stream",
     "text": [
      "                 F1      F2      F3      F4      F5\n",
      "n_neighbors                                        \n",
      "4            0.7493  0.6375  0.8504  0.6976  0.7761\n",
      "5            0.7735  0.6842  0.8504  0.7839  0.8130\n",
      "6            0.7493  0.6976  0.8311  0.7227  0.7948\n",
      "              F1      F2      F3      F4      F5\n",
      "C_value                                         \n",
      "0.010     0.4167  0.3937  0.4122  0.4122  0.3871\n",
      "500.005   0.9345  0.8839  0.9690  0.8727  0.9123\n",
      "1000.000  0.9045  0.8839  0.9690  0.8587  0.9123\n",
      "                  F1      F2      F3      F4      F5\n",
      "n_estimators                                        \n",
      "45            0.7735  0.6818  0.8409  0.7331  0.8344\n",
      "50            0.7493  0.6900  0.8409  0.7381  0.8344\n",
      "55            0.7735  0.6935  0.8409  0.7455  0.8672\n"
     ]
    }
   ],
   "source": [
    "print(F1_knn)\n",
    "print(F1_logReg)\n",
    "print(F1_ranFor)"
   ]
  },
  {
   "cell_type": "code",
   "execution_count": 14,
   "id": "7ffbf4d4",
   "metadata": {},
   "outputs": [],
   "source": [
    "# add some stats\n",
    "\n",
    "F1_knn = F1_knn.assign(mean = F1_knn.iloc[:, :5].mean(axis=1)) # assign add a column to df\n",
    "F1_knn = F1_knn.assign(sd = F1_knn.iloc[:, :5].std(axis = 1))\n",
    "\n",
    "F1_logReg = F1_logReg.assign(mean = F1_logReg.iloc[:, :5].mean(axis=1)) # assign add a column to df\n",
    "F1_logReg = F1_logReg.assign(sd = F1_logReg.iloc[:, :5].std(axis = 1))\n",
    "\n",
    "F1_ranFor = F1_ranFor.assign(mean = F1_ranFor.iloc[:, :5].mean(axis=1)) # assign add a column to df\n",
    "F1_ranFor = F1_ranFor.assign(sd = F1_ranFor.iloc[:, :5].std(axis = 1))"
   ]
  },
  {
   "cell_type": "code",
   "execution_count": 15,
   "id": "3ba37db2",
   "metadata": {},
   "outputs": [],
   "source": [
    "summary = pd.DataFrame({\"classifier\": [\"KNN\", \"Logistic Regression\", \"Random Forest\"],\n",
    "                        \"mean_F1\": [F1_knn.iloc[1, 5], F1_logReg.iloc[1, 5], F1_ranFor.iloc[1, 5]],\n",
    "                       \"std_F1\": [F1_knn.iloc[1, 6], F1_logReg.iloc[1, 6], F1_ranFor.iloc[1, 6]]})"
   ]
  },
  {
   "cell_type": "code",
   "execution_count": 18,
   "id": "39482d08",
   "metadata": {},
   "outputs": [
    {
     "data": {
      "image/png": "[encoded data removed]",
      "text/plain": [
       "<Figure size 360x360 with 1 Axes>"
      ]
     },
     "metadata": {
      "needs_background": "light"
     },
     "output_type": "display_data"
    },
    {
     "data": {
      "text/plain": [
       "<Figure size 432x288 with 0 Axes>"
      ]
     },
     "metadata": {},
     "output_type": "display_data"
    }
   ],
   "source": [
    "# sns.barplot(summary, x = summary.classifier, y = summary.mean_F1, errorbar = summary.std_F1)\n",
    "\n",
    "plt.figure(figsize = (5,5))\n",
    "plt.bar(data = summary, x = \"classifier\", height = \"mean_F1\", yerr = \"std_F1\", color = [\"#B3CBD3\", \"#6D9BAB\", \"#4D7685\"],\n",
    "        capsize=10, zorder = 3)\n",
    "plt.grid(visible = True, zorder = 0)\n",
    "plt.title(\" \")\n",
    "plt.xlabel(\" \")\n",
    "plt.ylabel(\"Mean F1 score\") # put definition of macro F1 score, sensitivity and specificity -> doesnt favour one level over the other\n",
    "plt.savefig(\"Classifier_selcetion.png\", dpi = 300)\n",
    "plt.show()\n",
    "plt.clf()"
   ]
  },
  {
   "cell_type": "code",
   "execution_count": 45,
   "id": "523f764d",
   "metadata": {},
   "outputs": [
    {
     "data": {
      "text/html": [
       "<div>\n",
       "<style scoped>\n",
       "    .dataframe tbody tr th:only-of-type {\n",
       "        vertical-align: middle;\n",
       "    }\n",
       "\n",
       "    .dataframe tbody tr th {\n",
       "        vertical-align: top;\n",
       "    }\n",
       "\n",
       "    .dataframe thead th {\n",
       "        text-align: right;\n",
       "    }\n",
       "</style>\n",
       "<table border=\"1\" class=\"dataframe\">\n",
       "  <thead>\n",
       "    <tr style=\"text-align: right;\">\n",
       "      <th></th>\n",
       "      <th>classifier</th>\n",
       "      <th>mean_F1</th>\n",
       "      <th>std_F1</th>\n",
       "    </tr>\n",
       "  </thead>\n",
       "  <tbody>\n",
       "    <tr>\n",
       "      <th>0</th>\n",
       "      <td>KNN</td>\n",
       "      <td>0.651720</td>\n",
       "      <td>0.054323</td>\n",
       "    </tr>\n",
       "    <tr>\n",
       "      <th>1</th>\n",
       "      <td>LogReg</td>\n",
       "      <td>0.811570</td>\n",
       "      <td>0.034383</td>\n",
       "    </tr>\n",
       "    <tr>\n",
       "      <th>2</th>\n",
       "      <td>RanFor</td>\n",
       "      <td>0.678059</td>\n",
       "      <td>0.065566</td>\n",
       "    </tr>\n",
       "  </tbody>\n",
       "</table>\n",
       "</div>"
      ],
      "text/plain": [
       "  classifier   mean_F1    std_F1\n",
       "0        KNN  0.651720  0.054323\n",
       "1     LogReg  0.811570  0.034383\n",
       "2     RanFor  0.678059  0.065566"
      ]
     },
     "execution_count": 45,
     "metadata": {},
     "output_type": "execute_result"
    }
   ],
   "source": [
    "summary"
   ]
  },
  {
   "cell_type": "code",
   "execution_count": 33,
   "id": "fee7d6e8",
   "metadata": {},
   "outputs": [
    {
     "data": {
      "text/html": [
       "<div>\n",
       "<style scoped>\n",
       "    .dataframe tbody tr th:only-of-type {\n",
       "        vertical-align: middle;\n",
       "    }\n",
       "\n",
       "    .dataframe tbody tr th {\n",
       "        vertical-align: top;\n",
       "    }\n",
       "\n",
       "    .dataframe thead th {\n",
       "        text-align: right;\n",
       "    }\n",
       "</style>\n",
       "<table border=\"1\" class=\"dataframe\">\n",
       "  <thead>\n",
       "    <tr style=\"text-align: right;\">\n",
       "      <th></th>\n",
       "      <th>F1</th>\n",
       "      <th>F2</th>\n",
       "      <th>F3</th>\n",
       "      <th>F4</th>\n",
       "      <th>F5</th>\n",
       "      <th>mean</th>\n",
       "      <th>sd</th>\n",
       "    </tr>\n",
       "    <tr>\n",
       "      <th>n_neighbors</th>\n",
       "      <th></th>\n",
       "      <th></th>\n",
       "      <th></th>\n",
       "      <th></th>\n",
       "      <th></th>\n",
       "      <th></th>\n",
       "      <th></th>\n",
       "    </tr>\n",
       "  </thead>\n",
       "  <tbody>\n",
       "    <tr>\n",
       "      <th>4</th>\n",
       "      <td>0.7358</td>\n",
       "      <td>0.6225</td>\n",
       "      <td>0.8399</td>\n",
       "      <td>0.7462</td>\n",
       "      <td>0.7568</td>\n",
       "      <td>0.657655</td>\n",
       "      <td>0.190590</td>\n",
       "    </tr>\n",
       "    <tr>\n",
       "      <th>5</th>\n",
       "      <td>0.7100</td>\n",
       "      <td>0.7298</td>\n",
       "      <td>0.8504</td>\n",
       "      <td>0.7688</td>\n",
       "      <td>0.7818</td>\n",
       "      <td>0.682579</td>\n",
       "      <td>0.190197</td>\n",
       "    </tr>\n",
       "    <tr>\n",
       "      <th>6</th>\n",
       "      <td>0.6980</td>\n",
       "      <td>0.6856</td>\n",
       "      <td>0.8455</td>\n",
       "      <td>0.7358</td>\n",
       "      <td>0.7568</td>\n",
       "      <td>0.661332</td>\n",
       "      <td>0.187228</td>\n",
       "    </tr>\n",
       "  </tbody>\n",
       "</table>\n",
       "</div>"
      ],
      "text/plain": [
       "                 F1      F2      F3      F4      F5      mean        sd\n",
       "n_neighbors                                                            \n",
       "4            0.7358  0.6225  0.8399  0.7462  0.7568  0.657655  0.190590\n",
       "5            0.7100  0.7298  0.8504  0.7688  0.7818  0.682579  0.190197\n",
       "6            0.6980  0.6856  0.8455  0.7358  0.7568  0.661332  0.187228"
      ]
     },
     "execution_count": 33,
     "metadata": {},
     "output_type": "execute_result"
    }
   ],
   "source": []
  }
 ],
 "metadata": {
  "kernelspec": {
   "display_name": "Python 3 (ipykernel)",
   "language": "python",
   "name": "python3"
  },
  "language_info": {
   "codemirror_mode": {
    "name": "ipython",
    "version": 3
   },
   "file_extension": ".py",
   "mimetype": "text/x-python",
   "name": "python",
   "nbconvert_exporter": "python",
   "pygments_lexer": "ipython3",
   "version": "3.9.12"
  }
 },
 "nbformat": 4,
 "nbformat_minor": 5
}
