{
 "cells": [
  {
   "cell_type": "code",
   "execution_count": 2,
   "id": "dfc493d3",
   "metadata": {},
   "outputs": [],
   "source": [
    "import pandas as pd\n",
    "import numpy as np"
   ]
  },
  {
   "cell_type": "markdown",
   "id": "642451c3",
   "metadata": {},
   "source": [
    "### Length features learning\n",
    "First, we'll load our dataframe and convert it into the rigth format"
   ]
  },
  {
   "cell_type": "code",
   "execution_count": 3,
   "id": "0699ddf1",
   "metadata": {},
   "outputs": [],
   "source": [
    "labels = pd.read_csv(\"Results/Machine_Learning/sample_map_ML.csv\")\n",
    "features  = pd.read_csv(\"Results/Machine_Learning/fragment_features_CNA_ML.csv\")\n",
    "# convert to long\n",
    "features = pd.pivot(data = features, index = \"sample\", columns = \"length\", values = \"count\")"
   ]
  },
  {
   "cell_type": "code",
   "execution_count": 4,
   "id": "35c12087",
   "metadata": {},
   "outputs": [],
   "source": [
    "cancer_list = [\"A\", \"B\", \"C\", \"Lung\", \"Breast\"]\n",
    "\n",
    "def binary(df):\n",
    "    df[\"cancer\"] = np.where(df[\"diagnosis\"].isin(cancer_list), 1, 0)\n",
    "    \n",
    "    return df\n",
    "\n",
    "# apply function and reshape df\n",
    "labels = binary(labels)\n",
    "labels.drop(columns = [\"diagnosis\"], inplace = True)\n",
    "labels.set_index(\"sample\", inplace = True)"
   ]
  },
  {
   "cell_type": "code",
   "execution_count": 5,
   "id": "26870423",
   "metadata": {},
   "outputs": [
    {
     "name": "stdout",
     "output_type": "stream",
     "text": [
      "0 in features: \n",
      " 0\n",
      "NANs in features: \n",
      " 0\n",
      "0 in labels: \n",
      " 0\n",
      "NANs in labels: \n",
      " 0\n"
     ]
    }
   ],
   "source": [
    "print(\"0 in features: \\n\", features.isnull().sum().sum())\n",
    "print(\"NANs in features: \\n\", features.isna().sum().sum())\n",
    "print(\"0 in labels: \\n\", labels.isnull().sum().sum())\n",
    "print(\"NANs in labels: \\n\", labels.isna().sum().sum())"
   ]
  },
  {
   "cell_type": "code",
   "execution_count": 6,
   "id": "50de9a86",
   "metadata": {},
   "outputs": [
    {
     "name": "stdout",
     "output_type": "stream",
     "text": [
      "Are the sample arrays equal? True\n"
     ]
    }
   ],
   "source": [
    "print(\"Are the sample arrays equal?\", np.array_equal(np.array(features.index), np.array(labels.index)))"
   ]
  },
  {
   "cell_type": "code",
   "execution_count": 7,
   "id": "47692007",
   "metadata": {},
   "outputs": [
    {
     "name": "stdout",
     "output_type": "stream",
     "text": [
      "(481, 120)\n",
      "(481, 1)\n",
      "(481, 120)\n",
      "(481, 1)\n"
     ]
    }
   ],
   "source": [
    "# convert the pd dataframes into numpy vectors\n",
    "print(features.shape)\n",
    "print(labels.shape)\n",
    "features = features.to_numpy(copy=True) \n",
    "labels = labels.to_numpy(copy=True)\n",
    "print(features.shape)\n",
    "print(labels.shape)\n"
   ]
  },
  {
   "cell_type": "markdown",
   "id": "ad21527b",
   "metadata": {},
   "source": [
    "### train test split"
   ]
  },
  {
   "cell_type": "code",
   "execution_count": 8,
   "id": "13a6de76",
   "metadata": {},
   "outputs": [],
   "source": [
    "# splitting into test and train\n",
    "from sklearn.model_selection import train_test_split\n",
    "\n",
    "X, y = features, labels.ravel()\n",
    "\n",
    "X_train, X_test, y_train, y_test = train_test_split(X, y, test_size=0.2, random_state=33, shuffle = True)"
   ]
  },
  {
   "cell_type": "code",
   "execution_count": 9,
   "id": "d6eafb54",
   "metadata": {},
   "outputs": [],
   "source": [
    "# normalization of testst\n",
    "from sklearn.preprocessing import StandardScaler\n",
    "\n",
    "transformer = StandardScaler().fit(X_train) # compute mean, std on train\n",
    "X_test = transformer.transform(X_test)  # use same transformer for both, mimics that we do not know train data\n",
    "X_train = transformer.transform(X_train)"
   ]
  },
  {
   "cell_type": "code",
   "execution_count": 10,
   "id": "cf14b43e",
   "metadata": {},
   "outputs": [
    {
     "data": {
      "text/plain": [
       "-1616.8714329383492"
      ]
     },
     "execution_count": 10,
     "metadata": {},
     "output_type": "execute_result"
    }
   ],
   "source": [
    "X_test.sum()"
   ]
  },
  {
   "cell_type": "markdown",
   "id": "33b8f217",
   "metadata": {},
   "source": [
    "### KNN model"
   ]
  },
  {
   "cell_type": "code",
   "execution_count": 86,
   "id": "8bffb8eb",
   "metadata": {},
   "outputs": [
    {
     "data": {
      "text/plain": [
       "KNeighborsClassifier(n_neighbors=3)"
      ]
     },
     "execution_count": 86,
     "metadata": {},
     "output_type": "execute_result"
    }
   ],
   "source": [
    "# KNN Classifiers\n",
    "from sklearn.neighbors import KNeighborsClassifier\n",
    "# define parameters\n",
    "n_neighbors = 3\n",
    "knn = KNeighborsClassifier(n_neighbors=n_neighbors)\n",
    "knn.fit(X_train, y_train)"
   ]
  },
  {
   "cell_type": "code",
   "execution_count": 87,
   "id": "b08ff806",
   "metadata": {},
   "outputs": [
    {
     "name": "stdout",
     "output_type": "stream",
     "text": [
      "Accuracy: 80.41 %\n"
     ]
    }
   ],
   "source": [
    "y_predicted = knn.predict(X_test)\n",
    "knn_result = np.equal(y_predicted, y_test)\n",
    "accuracy = (knn_result.sum() / len(knn_result)) * 100\n",
    "print(\"Accuracy: \" + str(round(accuracy,2)) + \" %\")"
   ]
  },
  {
   "cell_type": "code",
   "execution_count": 88,
   "id": "bf98b923",
   "metadata": {},
   "outputs": [
    {
     "name": "stdout",
     "output_type": "stream",
     "text": [
      "              precision    recall  f1-score   support\n",
      "\n",
      "           0       0.78      0.83      0.80        46\n",
      "           1       0.83      0.78      0.81        51\n",
      "\n",
      "    accuracy                           0.80        97\n",
      "   macro avg       0.80      0.81      0.80        97\n",
      "weighted avg       0.81      0.80      0.80        97\n",
      "\n"
     ]
    }
   ],
   "source": [
    "from sklearn.metrics import classification_report\n",
    "print(classification_report(y_test, y_predicted))\n",
    "# how good we are to predicting classes, important to check both classes accuracy\n",
    "# support: no of samples"
   ]
  },
  {
   "cell_type": "markdown",
   "id": "c16328b9",
   "metadata": {},
   "source": [
    "### Logitsic regression model"
   ]
  },
  {
   "cell_type": "code",
   "execution_count": 11,
   "id": "eacea611",
   "metadata": {},
   "outputs": [
    {
     "data": {
      "text/plain": [
       "LogisticRegression(C=2.0, penalty='l1', solver='liblinear')"
      ]
     },
     "execution_count": 11,
     "metadata": {},
     "output_type": "execute_result"
    }
   ],
   "source": [
    "from sklearn.linear_model import LogisticRegression\n",
    "\n",
    "logReg = LogisticRegression(penalty = \"l1\", solver = \"liblinear\", C = 2.) # bigger C lower pen -> 1 / C\n",
    "logReg.fit(X_train, y_train)"
   ]
  },
  {
   "cell_type": "code",
   "execution_count": 12,
   "id": "4a66032f",
   "metadata": {},
   "outputs": [
    {
     "name": "stdout",
     "output_type": "stream",
     "text": [
      "Accuracy: 89.69 %\n"
     ]
    }
   ],
   "source": [
    "y_predicted = logReg.predict(X_test)\n",
    "logReg_result = np.equal(y_predicted, y_test)\n",
    "accuracy = (logReg_result.sum() / len(logReg_result)) * 100\n",
    "print(\"Accuracy: \" + str(round(accuracy,2)) + \" %\")"
   ]
  },
  {
   "cell_type": "code",
   "execution_count": 13,
   "id": "7c37edb5",
   "metadata": {},
   "outputs": [
    {
     "name": "stdout",
     "output_type": "stream",
     "text": [
      "              precision    recall  f1-score   support\n",
      "\n",
      "           0       0.85      0.96      0.90        46\n",
      "           1       0.96      0.84      0.90        51\n",
      "\n",
      "    accuracy                           0.90        97\n",
      "   macro avg       0.90      0.90      0.90        97\n",
      "weighted avg       0.90      0.90      0.90        97\n",
      "\n",
      "0.8968962585034014\n"
     ]
    }
   ],
   "source": [
    "from sklearn.metrics import classification_report, f1_score\n",
    "print(classification_report(y_test, y_predicted))\n",
    "print(f1_score(y_test, y_predicted, average = \"macro\"))\n",
    "# how good we are to predicting classes, important to check both classes accuracy\n",
    "# support: no of samples"
   ]
  },
  {
   "cell_type": "code",
   "execution_count": 21,
   "id": "c9628de5",
   "metadata": {},
   "outputs": [
    {
     "data": {
      "text/plain": [
       "12"
      ]
     },
     "execution_count": 21,
     "metadata": {},
     "output_type": "execute_result"
    }
   ],
   "source": [
    "len(logReg.coef_[0].nonzero()[0])"
   ]
  },
  {
   "cell_type": "markdown",
   "id": "78b7f5a7",
   "metadata": {},
   "source": [
    "### random Forrest"
   ]
  },
  {
   "cell_type": "code",
   "execution_count": 92,
   "id": "132cba10",
   "metadata": {},
   "outputs": [
    {
     "data": {
      "text/plain": [
       "RandomForestClassifier(max_depth=6, n_estimators=120)"
      ]
     },
     "execution_count": 92,
     "metadata": {},
     "output_type": "execute_result"
    }
   ],
   "source": [
    "from sklearn.ensemble import RandomForestClassifier\n",
    "\n",
    "ranFor = RandomForestClassifier(n_estimators = int(X_train.shape[1]), max_depth = 6) # hyper: choose 1\n",
    "ranFor.fit(X_train, y_train)"
   ]
  },
  {
   "cell_type": "code",
   "execution_count": 93,
   "id": "e51c3e5f",
   "metadata": {},
   "outputs": [
    {
     "name": "stdout",
     "output_type": "stream",
     "text": [
      "Accuracy: 82.47 %\n"
     ]
    }
   ],
   "source": [
    "y_predicted = ranFor.predict(X_test)\n",
    "ranFor_result = np.equal(y_predicted, y_test)\n",
    "accuracy = (ranFor_result.sum() / len(ranFor_result)) * 100\n",
    "print(\"Accuracy: \" + str(round(accuracy,2)) + \" %\")"
   ]
  },
  {
   "cell_type": "code",
   "execution_count": 94,
   "id": "d9b0eb9f",
   "metadata": {},
   "outputs": [
    {
     "name": "stdout",
     "output_type": "stream",
     "text": [
      "              precision    recall  f1-score   support\n",
      "\n",
      "           0       0.75      0.93      0.83        46\n",
      "           1       0.93      0.73      0.81        51\n",
      "\n",
      "    accuracy                           0.82        97\n",
      "   macro avg       0.84      0.83      0.82        97\n",
      "weighted avg       0.84      0.82      0.82        97\n",
      "\n"
     ]
    }
   ],
   "source": [
    "from sklearn.metrics import classification_report\n",
    "print(classification_report(y_test, y_predicted))\n",
    "# how good we are to predicting classes, important to check both classes accuracy\n",
    "# support: no of samples"
   ]
  },
  {
   "cell_type": "markdown",
   "id": "205a0fe3",
   "metadata": {},
   "source": [
    "# ichorCNA"
   ]
  },
  {
   "cell_type": "code",
   "execution_count": 95,
   "id": "c4876b84",
   "metadata": {},
   "outputs": [],
   "source": [
    "labels = pd.read_csv(\"Results/Machine_Learning/sample_map_ML.csv\")\n",
    "features  = pd.read_csv(\"Results/Machine_Learning/tumour_fractions_ML.csv\")\n",
    "\n",
    "# convert gender \n",
    "def binary(df, samples = True):\n",
    "    \n",
    "    cancer_list = [\"A\", \"B\", \"C\", \"Lung\", \"Breast\"]\n",
    "    if samples == True:\n",
    "        df[\"cancer\"] = np.where(df[\"diagnosis\"].isin(cancer_list), 1, 0)\n",
    "        df.drop(columns = [\"diagnosis\"], inplace = True)\n",
    "        df.set_index(\"sample\", inplace = True)\n",
    "        df.sort_index(axis = 0, inplace = True)\n",
    "    else:\n",
    "        df[\"gender_binary\"] = np.where(df[\"gender\"].isin([\"male\"]), 1, 0)\n",
    "        df.drop(columns = [\"gender\"], inplace = True)\n",
    "        df.set_index(\"sample\", inplace = True)\n",
    "        df.sort_index(axis = 0, inplace = True)\n",
    "    \n",
    "    return df\n",
    "\n",
    "features = binary(features, samples = False)\n",
    "labels = binary(labels, samples = True)\n",
    "features.drop(axis = 0, labels = \"EE87952\", inplace = True)\n",
    "labels.drop(axis = 0, labels = \"EE88290\", inplace = True)"
   ]
  },
  {
   "cell_type": "code",
   "execution_count": 96,
   "id": "71f3bd14",
   "metadata": {},
   "outputs": [
    {
     "data": {
      "text/plain": [
       "True"
      ]
     },
     "execution_count": 96,
     "metadata": {},
     "output_type": "execute_result"
    }
   ],
   "source": [
    "np.array_equal(labels.index, features.index)"
   ]
  },
  {
   "cell_type": "code",
   "execution_count": 99,
   "id": "7d1d517e",
   "metadata": {},
   "outputs": [],
   "source": [
    "def splitter(labels, features):\n",
    "    # convert to numpy\n",
    "    features = features.to_numpy(copy=True) \n",
    "    labels = labels.to_numpy(copy=True)\n",
    "    # split into train test\n",
    "    X, y = features, labels.ravel()\n",
    "    X_train, X_test, y_train, y_test = train_test_split(X, y, test_size=0.2, random_state=33, shuffle = True)\n",
    "    # normalize\n",
    "    transformer = StandardScaler().fit(X_train) # compute mean, std on train\n",
    "    X_test = transformer.transform(X_test)  # use same transformer for both, mimics that we do not know train data\n",
    "    X_train = transformer.transform(X_train)\n",
    "    \n",
    "    return X_train, X_test, y_train, y_test\n",
    "\n",
    "X_train, X_test, y_train, y_test = splitter(labels, features)"
   ]
  },
  {
   "cell_type": "code",
   "execution_count": 101,
   "id": "e6fc585b",
   "metadata": {},
   "outputs": [
    {
     "name": "stdout",
     "output_type": "stream",
     "text": [
      "              precision    recall  f1-score   support\n",
      "\n",
      "           0       0.62      0.98      0.76        46\n",
      "           1       0.96      0.44      0.60        50\n",
      "\n",
      "    accuracy                           0.70        96\n",
      "   macro avg       0.79      0.71      0.68        96\n",
      "weighted avg       0.79      0.70      0.68        96\n",
      "\n"
     ]
    }
   ],
   "source": [
    "logReg = LogisticRegression(penalty = \"l1\", solver = \"liblinear\", C = 1.) # bigger C lower pen -> 1 / C\n",
    "logReg.fit(X_train, y_train)\n",
    "y_predicted = logReg.predict(X_test)\n",
    "print(classification_report(y_test, y_predicted))"
   ]
  },
  {
   "cell_type": "code",
   "execution_count": 118,
   "id": "8ccb50e9",
   "metadata": {},
   "outputs": [
    {
     "data": {
      "text/plain": [
       "array([[ 1.90666497,  0.38157269, -0.04271875]])"
      ]
     },
     "execution_count": 118,
     "metadata": {},
     "output_type": "execute_result"
    }
   ],
   "source": [
    "logReg.coef_ # proposes dropping gender"
   ]
  },
  {
   "cell_type": "markdown",
   "id": "2352e68f",
   "metadata": {},
   "source": [
    "### LIQUORICE\n"
   ]
  },
  {
   "cell_type": "code",
   "execution_count": 4,
   "id": "21f3ae0d",
   "metadata": {},
   "outputs": [],
   "source": [
    "labels = pd.read_csv(\"Results/Machine_Learning/sample_map_ML.csv\")\n",
    "features  = pd.read_csv(\"Results/Machine_Learning/cell_type_signatures_LIQU_ML.csv\")\n",
    "features = features.pivot(index = \"sample\", columns = \"region_set\", values = [\"Dip_area\", \"Dip_depth\"]) # first 13 dip_area"
   ]
  },
  {
   "cell_type": "code",
   "execution_count": 5,
   "id": "62159098",
   "metadata": {},
   "outputs": [
    {
     "name": "stderr",
     "output_type": "stream",
     "text": [
      "C:\\Users\\paesc\\AppData\\Local\\Temp\\ipykernel_19184\\1864539223.py:1: FutureWarning: merging between different levels is deprecated and will be removed in a future version. (2 levels on the left, 1 on the right)\n",
      "  features = features.merge(labels, on = \"samples\", how = \"inner\")\n"
     ]
    },
    {
     "ename": "KeyError",
     "evalue": "'samples'",
     "output_type": "error",
     "traceback": [
      "\u001b[1;31m---------------------------------------------------------------------------\u001b[0m",
      "\u001b[1;31mKeyError\u001b[0m                                  Traceback (most recent call last)",
      "Input \u001b[1;32mIn [5]\u001b[0m, in \u001b[0;36m<cell line: 1>\u001b[1;34m()\u001b[0m\n\u001b[1;32m----> 1\u001b[0m features \u001b[38;5;241m=\u001b[39m \u001b[43mfeatures\u001b[49m\u001b[38;5;241;43m.\u001b[39;49m\u001b[43mmerge\u001b[49m\u001b[43m(\u001b[49m\u001b[43mlabels\u001b[49m\u001b[43m,\u001b[49m\u001b[43m \u001b[49m\u001b[43mon\u001b[49m\u001b[43m \u001b[49m\u001b[38;5;241;43m=\u001b[39;49m\u001b[43m \u001b[49m\u001b[38;5;124;43m\"\u001b[39;49m\u001b[38;5;124;43msamples\u001b[39;49m\u001b[38;5;124;43m\"\u001b[39;49m\u001b[43m,\u001b[49m\u001b[43m \u001b[49m\u001b[43mhow\u001b[49m\u001b[43m \u001b[49m\u001b[38;5;241;43m=\u001b[39;49m\u001b[43m \u001b[49m\u001b[38;5;124;43m\"\u001b[39;49m\u001b[38;5;124;43minner\u001b[39;49m\u001b[38;5;124;43m\"\u001b[39;49m\u001b[43m)\u001b[49m\n",
      "File \u001b[1;32m~\\anaconda3\\lib\\site-packages\\pandas\\core\\frame.py:9345\u001b[0m, in \u001b[0;36mDataFrame.merge\u001b[1;34m(self, right, how, on, left_on, right_on, left_index, right_index, sort, suffixes, copy, indicator, validate)\u001b[0m\n\u001b[0;32m   9326\u001b[0m \u001b[38;5;129m@Substitution\u001b[39m(\u001b[38;5;124m\"\u001b[39m\u001b[38;5;124m\"\u001b[39m)\n\u001b[0;32m   9327\u001b[0m \u001b[38;5;129m@Appender\u001b[39m(_merge_doc, indents\u001b[38;5;241m=\u001b[39m\u001b[38;5;241m2\u001b[39m)\n\u001b[0;32m   9328\u001b[0m \u001b[38;5;28;01mdef\u001b[39;00m \u001b[38;5;21mmerge\u001b[39m(\n\u001b[1;32m   (...)\u001b[0m\n\u001b[0;32m   9341\u001b[0m     validate: \u001b[38;5;28mstr\u001b[39m \u001b[38;5;241m|\u001b[39m \u001b[38;5;28;01mNone\u001b[39;00m \u001b[38;5;241m=\u001b[39m \u001b[38;5;28;01mNone\u001b[39;00m,\n\u001b[0;32m   9342\u001b[0m ) \u001b[38;5;241m-\u001b[39m\u001b[38;5;241m>\u001b[39m DataFrame:\n\u001b[0;32m   9343\u001b[0m     \u001b[38;5;28;01mfrom\u001b[39;00m \u001b[38;5;21;01mpandas\u001b[39;00m\u001b[38;5;21;01m.\u001b[39;00m\u001b[38;5;21;01mcore\u001b[39;00m\u001b[38;5;21;01m.\u001b[39;00m\u001b[38;5;21;01mreshape\u001b[39;00m\u001b[38;5;21;01m.\u001b[39;00m\u001b[38;5;21;01mmerge\u001b[39;00m \u001b[38;5;28;01mimport\u001b[39;00m merge\n\u001b[1;32m-> 9345\u001b[0m     \u001b[38;5;28;01mreturn\u001b[39;00m \u001b[43mmerge\u001b[49m\u001b[43m(\u001b[49m\n\u001b[0;32m   9346\u001b[0m \u001b[43m        \u001b[49m\u001b[38;5;28;43mself\u001b[39;49m\u001b[43m,\u001b[49m\n\u001b[0;32m   9347\u001b[0m \u001b[43m        \u001b[49m\u001b[43mright\u001b[49m\u001b[43m,\u001b[49m\n\u001b[0;32m   9348\u001b[0m \u001b[43m        \u001b[49m\u001b[43mhow\u001b[49m\u001b[38;5;241;43m=\u001b[39;49m\u001b[43mhow\u001b[49m\u001b[43m,\u001b[49m\n\u001b[0;32m   9349\u001b[0m \u001b[43m        \u001b[49m\u001b[43mon\u001b[49m\u001b[38;5;241;43m=\u001b[39;49m\u001b[43mon\u001b[49m\u001b[43m,\u001b[49m\n\u001b[0;32m   9350\u001b[0m \u001b[43m        \u001b[49m\u001b[43mleft_on\u001b[49m\u001b[38;5;241;43m=\u001b[39;49m\u001b[43mleft_on\u001b[49m\u001b[43m,\u001b[49m\n\u001b[0;32m   9351\u001b[0m \u001b[43m        \u001b[49m\u001b[43mright_on\u001b[49m\u001b[38;5;241;43m=\u001b[39;49m\u001b[43mright_on\u001b[49m\u001b[43m,\u001b[49m\n\u001b[0;32m   9352\u001b[0m \u001b[43m        \u001b[49m\u001b[43mleft_index\u001b[49m\u001b[38;5;241;43m=\u001b[39;49m\u001b[43mleft_index\u001b[49m\u001b[43m,\u001b[49m\n\u001b[0;32m   9353\u001b[0m \u001b[43m        \u001b[49m\u001b[43mright_index\u001b[49m\u001b[38;5;241;43m=\u001b[39;49m\u001b[43mright_index\u001b[49m\u001b[43m,\u001b[49m\n\u001b[0;32m   9354\u001b[0m \u001b[43m        \u001b[49m\u001b[43msort\u001b[49m\u001b[38;5;241;43m=\u001b[39;49m\u001b[43msort\u001b[49m\u001b[43m,\u001b[49m\n\u001b[0;32m   9355\u001b[0m \u001b[43m        \u001b[49m\u001b[43msuffixes\u001b[49m\u001b[38;5;241;43m=\u001b[39;49m\u001b[43msuffixes\u001b[49m\u001b[43m,\u001b[49m\n\u001b[0;32m   9356\u001b[0m \u001b[43m        \u001b[49m\u001b[43mcopy\u001b[49m\u001b[38;5;241;43m=\u001b[39;49m\u001b[43mcopy\u001b[49m\u001b[43m,\u001b[49m\n\u001b[0;32m   9357\u001b[0m \u001b[43m        \u001b[49m\u001b[43mindicator\u001b[49m\u001b[38;5;241;43m=\u001b[39;49m\u001b[43mindicator\u001b[49m\u001b[43m,\u001b[49m\n\u001b[0;32m   9358\u001b[0m \u001b[43m        \u001b[49m\u001b[43mvalidate\u001b[49m\u001b[38;5;241;43m=\u001b[39;49m\u001b[43mvalidate\u001b[49m\u001b[43m,\u001b[49m\n\u001b[0;32m   9359\u001b[0m \u001b[43m    \u001b[49m\u001b[43m)\u001b[49m\n",
      "File \u001b[1;32m~\\anaconda3\\lib\\site-packages\\pandas\\core\\reshape\\merge.py:107\u001b[0m, in \u001b[0;36mmerge\u001b[1;34m(left, right, how, on, left_on, right_on, left_index, right_index, sort, suffixes, copy, indicator, validate)\u001b[0m\n\u001b[0;32m     90\u001b[0m \u001b[38;5;129m@Substitution\u001b[39m(\u001b[38;5;124m\"\u001b[39m\u001b[38;5;130;01m\\n\u001b[39;00m\u001b[38;5;124mleft : DataFrame or named Series\u001b[39m\u001b[38;5;124m\"\u001b[39m)\n\u001b[0;32m     91\u001b[0m \u001b[38;5;129m@Appender\u001b[39m(_merge_doc, indents\u001b[38;5;241m=\u001b[39m\u001b[38;5;241m0\u001b[39m)\n\u001b[0;32m     92\u001b[0m \u001b[38;5;28;01mdef\u001b[39;00m \u001b[38;5;21mmerge\u001b[39m(\n\u001b[1;32m   (...)\u001b[0m\n\u001b[0;32m    105\u001b[0m     validate: \u001b[38;5;28mstr\u001b[39m \u001b[38;5;241m|\u001b[39m \u001b[38;5;28;01mNone\u001b[39;00m \u001b[38;5;241m=\u001b[39m \u001b[38;5;28;01mNone\u001b[39;00m,\n\u001b[0;32m    106\u001b[0m ) \u001b[38;5;241m-\u001b[39m\u001b[38;5;241m>\u001b[39m DataFrame:\n\u001b[1;32m--> 107\u001b[0m     op \u001b[38;5;241m=\u001b[39m \u001b[43m_MergeOperation\u001b[49m\u001b[43m(\u001b[49m\n\u001b[0;32m    108\u001b[0m \u001b[43m        \u001b[49m\u001b[43mleft\u001b[49m\u001b[43m,\u001b[49m\n\u001b[0;32m    109\u001b[0m \u001b[43m        \u001b[49m\u001b[43mright\u001b[49m\u001b[43m,\u001b[49m\n\u001b[0;32m    110\u001b[0m \u001b[43m        \u001b[49m\u001b[43mhow\u001b[49m\u001b[38;5;241;43m=\u001b[39;49m\u001b[43mhow\u001b[49m\u001b[43m,\u001b[49m\n\u001b[0;32m    111\u001b[0m \u001b[43m        \u001b[49m\u001b[43mon\u001b[49m\u001b[38;5;241;43m=\u001b[39;49m\u001b[43mon\u001b[49m\u001b[43m,\u001b[49m\n\u001b[0;32m    112\u001b[0m \u001b[43m        \u001b[49m\u001b[43mleft_on\u001b[49m\u001b[38;5;241;43m=\u001b[39;49m\u001b[43mleft_on\u001b[49m\u001b[43m,\u001b[49m\n\u001b[0;32m    113\u001b[0m \u001b[43m        \u001b[49m\u001b[43mright_on\u001b[49m\u001b[38;5;241;43m=\u001b[39;49m\u001b[43mright_on\u001b[49m\u001b[43m,\u001b[49m\n\u001b[0;32m    114\u001b[0m \u001b[43m        \u001b[49m\u001b[43mleft_index\u001b[49m\u001b[38;5;241;43m=\u001b[39;49m\u001b[43mleft_index\u001b[49m\u001b[43m,\u001b[49m\n\u001b[0;32m    115\u001b[0m \u001b[43m        \u001b[49m\u001b[43mright_index\u001b[49m\u001b[38;5;241;43m=\u001b[39;49m\u001b[43mright_index\u001b[49m\u001b[43m,\u001b[49m\n\u001b[0;32m    116\u001b[0m \u001b[43m        \u001b[49m\u001b[43msort\u001b[49m\u001b[38;5;241;43m=\u001b[39;49m\u001b[43msort\u001b[49m\u001b[43m,\u001b[49m\n\u001b[0;32m    117\u001b[0m \u001b[43m        \u001b[49m\u001b[43msuffixes\u001b[49m\u001b[38;5;241;43m=\u001b[39;49m\u001b[43msuffixes\u001b[49m\u001b[43m,\u001b[49m\n\u001b[0;32m    118\u001b[0m \u001b[43m        \u001b[49m\u001b[43mcopy\u001b[49m\u001b[38;5;241;43m=\u001b[39;49m\u001b[43mcopy\u001b[49m\u001b[43m,\u001b[49m\n\u001b[0;32m    119\u001b[0m \u001b[43m        \u001b[49m\u001b[43mindicator\u001b[49m\u001b[38;5;241;43m=\u001b[39;49m\u001b[43mindicator\u001b[49m\u001b[43m,\u001b[49m\n\u001b[0;32m    120\u001b[0m \u001b[43m        \u001b[49m\u001b[43mvalidate\u001b[49m\u001b[38;5;241;43m=\u001b[39;49m\u001b[43mvalidate\u001b[49m\u001b[43m,\u001b[49m\n\u001b[0;32m    121\u001b[0m \u001b[43m    \u001b[49m\u001b[43m)\u001b[49m\n\u001b[0;32m    122\u001b[0m     \u001b[38;5;28;01mreturn\u001b[39;00m op\u001b[38;5;241m.\u001b[39mget_result()\n",
      "File \u001b[1;32m~\\anaconda3\\lib\\site-packages\\pandas\\core\\reshape\\merge.py:700\u001b[0m, in \u001b[0;36m_MergeOperation.__init__\u001b[1;34m(self, left, right, how, on, left_on, right_on, axis, left_index, right_index, sort, suffixes, copy, indicator, validate)\u001b[0m\n\u001b[0;32m    693\u001b[0m \u001b[38;5;28mself\u001b[39m\u001b[38;5;241m.\u001b[39m_cross \u001b[38;5;241m=\u001b[39m cross_col\n\u001b[0;32m    695\u001b[0m \u001b[38;5;66;03m# note this function has side effects\u001b[39;00m\n\u001b[0;32m    696\u001b[0m (\n\u001b[0;32m    697\u001b[0m     \u001b[38;5;28mself\u001b[39m\u001b[38;5;241m.\u001b[39mleft_join_keys,\n\u001b[0;32m    698\u001b[0m     \u001b[38;5;28mself\u001b[39m\u001b[38;5;241m.\u001b[39mright_join_keys,\n\u001b[0;32m    699\u001b[0m     \u001b[38;5;28mself\u001b[39m\u001b[38;5;241m.\u001b[39mjoin_names,\n\u001b[1;32m--> 700\u001b[0m ) \u001b[38;5;241m=\u001b[39m \u001b[38;5;28;43mself\u001b[39;49m\u001b[38;5;241;43m.\u001b[39;49m\u001b[43m_get_merge_keys\u001b[49m\u001b[43m(\u001b[49m\u001b[43m)\u001b[49m\n\u001b[0;32m    702\u001b[0m \u001b[38;5;66;03m# validate the merge keys dtypes. We may need to coerce\u001b[39;00m\n\u001b[0;32m    703\u001b[0m \u001b[38;5;66;03m# to avoid incompatible dtypes\u001b[39;00m\n\u001b[0;32m    704\u001b[0m \u001b[38;5;28mself\u001b[39m\u001b[38;5;241m.\u001b[39m_maybe_coerce_merge_keys()\n",
      "File \u001b[1;32m~\\anaconda3\\lib\\site-packages\\pandas\\core\\reshape\\merge.py:1097\u001b[0m, in \u001b[0;36m_MergeOperation._get_merge_keys\u001b[1;34m(self)\u001b[0m\n\u001b[0;32m   1095\u001b[0m \u001b[38;5;28;01mif\u001b[39;00m \u001b[38;5;129;01mnot\u001b[39;00m is_rkey(rk):\n\u001b[0;32m   1096\u001b[0m     \u001b[38;5;28;01mif\u001b[39;00m rk \u001b[38;5;129;01mis\u001b[39;00m \u001b[38;5;129;01mnot\u001b[39;00m \u001b[38;5;28;01mNone\u001b[39;00m:\n\u001b[1;32m-> 1097\u001b[0m         right_keys\u001b[38;5;241m.\u001b[39mappend(\u001b[43mright\u001b[49m\u001b[38;5;241;43m.\u001b[39;49m\u001b[43m_get_label_or_level_values\u001b[49m\u001b[43m(\u001b[49m\u001b[43mrk\u001b[49m\u001b[43m)\u001b[49m)\n\u001b[0;32m   1098\u001b[0m     \u001b[38;5;28;01melse\u001b[39;00m:\n\u001b[0;32m   1099\u001b[0m         \u001b[38;5;66;03m# work-around for merge_asof(right_index=True)\u001b[39;00m\n\u001b[0;32m   1100\u001b[0m         right_keys\u001b[38;5;241m.\u001b[39mappend(right\u001b[38;5;241m.\u001b[39mindex)\n",
      "File \u001b[1;32m~\\anaconda3\\lib\\site-packages\\pandas\\core\\generic.py:1840\u001b[0m, in \u001b[0;36mNDFrame._get_label_or_level_values\u001b[1;34m(self, key, axis)\u001b[0m\n\u001b[0;32m   1838\u001b[0m     values \u001b[38;5;241m=\u001b[39m \u001b[38;5;28mself\u001b[39m\u001b[38;5;241m.\u001b[39maxes[axis]\u001b[38;5;241m.\u001b[39mget_level_values(key)\u001b[38;5;241m.\u001b[39m_values\n\u001b[0;32m   1839\u001b[0m \u001b[38;5;28;01melse\u001b[39;00m:\n\u001b[1;32m-> 1840\u001b[0m     \u001b[38;5;28;01mraise\u001b[39;00m \u001b[38;5;167;01mKeyError\u001b[39;00m(key)\n\u001b[0;32m   1842\u001b[0m \u001b[38;5;66;03m# Check for duplicates\u001b[39;00m\n\u001b[0;32m   1843\u001b[0m \u001b[38;5;28;01mif\u001b[39;00m values\u001b[38;5;241m.\u001b[39mndim \u001b[38;5;241m>\u001b[39m \u001b[38;5;241m1\u001b[39m:\n",
      "\u001b[1;31mKeyError\u001b[0m: 'samples'"
     ]
    }
   ],
   "source": [
    "features = features.merge(labels, on = \"samples\", how = \"inner\")"
   ]
  },
  {
   "cell_type": "code",
   "execution_count": 6,
   "id": "3e225280",
   "metadata": {},
   "outputs": [
    {
     "data": {
      "text/html": [
       "<div>\n",
       "<style scoped>\n",
       "    .dataframe tbody tr th:only-of-type {\n",
       "        vertical-align: middle;\n",
       "    }\n",
       "\n",
       "    .dataframe tbody tr th {\n",
       "        vertical-align: top;\n",
       "    }\n",
       "\n",
       "    .dataframe thead tr th {\n",
       "        text-align: left;\n",
       "    }\n",
       "\n",
       "    .dataframe thead tr:last-of-type th {\n",
       "        text-align: right;\n",
       "    }\n",
       "</style>\n",
       "<table border=\"1\" class=\"dataframe\">\n",
       "  <thead>\n",
       "    <tr>\n",
       "      <th></th>\n",
       "      <th colspan=\"10\" halign=\"left\">Dip_area</th>\n",
       "      <th>...</th>\n",
       "      <th colspan=\"10\" halign=\"left\">Dip_depth</th>\n",
       "    </tr>\n",
       "    <tr>\n",
       "      <th>region_set</th>\n",
       "      <th>A549_hg38</th>\n",
       "      <th>HPF_lung_fibroblast_cluster1737_hg38</th>\n",
       "      <th>HeLa_cluster1777_hg38</th>\n",
       "      <th>SAEC_hg38</th>\n",
       "      <th>colon_cluster507_hg38</th>\n",
       "      <th>hematopoietic_specific_liquorice_hg38</th>\n",
       "      <th>hepatocyte_all_hg38</th>\n",
       "      <th>mammary_epithel_cluster2438_hg38</th>\n",
       "      <th>melano_SOX_clusters1863_2205_hg38</th>\n",
       "      <th>panc_adenoca_cluster1261_hg38</th>\n",
       "      <th>...</th>\n",
       "      <th>SAEC_hg38</th>\n",
       "      <th>colon_cluster507_hg38</th>\n",
       "      <th>hematopoietic_specific_liquorice_hg38</th>\n",
       "      <th>hepatocyte_all_hg38</th>\n",
       "      <th>mammary_epithel_cluster2438_hg38</th>\n",
       "      <th>melano_SOX_clusters1863_2205_hg38</th>\n",
       "      <th>panc_adenoca_cluster1261_hg38</th>\n",
       "      <th>panc_epithel_cluster1974_hg38</th>\n",
       "      <th>prostate_cluster2483_hg38</th>\n",
       "      <th>skeletal_muscle_cluster1518_hg38</th>\n",
       "    </tr>\n",
       "    <tr>\n",
       "      <th>sample</th>\n",
       "      <th></th>\n",
       "      <th></th>\n",
       "      <th></th>\n",
       "      <th></th>\n",
       "      <th></th>\n",
       "      <th></th>\n",
       "      <th></th>\n",
       "      <th></th>\n",
       "      <th></th>\n",
       "      <th></th>\n",
       "      <th></th>\n",
       "      <th></th>\n",
       "      <th></th>\n",
       "      <th></th>\n",
       "      <th></th>\n",
       "      <th></th>\n",
       "      <th></th>\n",
       "      <th></th>\n",
       "      <th></th>\n",
       "      <th></th>\n",
       "      <th></th>\n",
       "    </tr>\n",
       "  </thead>\n",
       "  <tbody>\n",
       "    <tr>\n",
       "      <th>EE87786</th>\n",
       "      <td>0.76</td>\n",
       "      <td>-0.10</td>\n",
       "      <td>-0.22</td>\n",
       "      <td>-0.78</td>\n",
       "      <td>0.76</td>\n",
       "      <td>-0.50</td>\n",
       "      <td>-0.55</td>\n",
       "      <td>0.89</td>\n",
       "      <td>-0.77</td>\n",
       "      <td>-0.61</td>\n",
       "      <td>...</td>\n",
       "      <td>2.21</td>\n",
       "      <td>1.84</td>\n",
       "      <td>0.38</td>\n",
       "      <td>0.78</td>\n",
       "      <td>0.82</td>\n",
       "      <td>2.29</td>\n",
       "      <td>1.03</td>\n",
       "      <td>0.72</td>\n",
       "      <td>0.47</td>\n",
       "      <td>-0.71</td>\n",
       "    </tr>\n",
       "    <tr>\n",
       "      <th>EE87787</th>\n",
       "      <td>-2.16</td>\n",
       "      <td>1.22</td>\n",
       "      <td>-2.49</td>\n",
       "      <td>-3.51</td>\n",
       "      <td>0.84</td>\n",
       "      <td>1.25</td>\n",
       "      <td>1.52</td>\n",
       "      <td>-1.04</td>\n",
       "      <td>1.00</td>\n",
       "      <td>-2.03</td>\n",
       "      <td>...</td>\n",
       "      <td>3.28</td>\n",
       "      <td>0.36</td>\n",
       "      <td>0.01</td>\n",
       "      <td>0.54</td>\n",
       "      <td>0.58</td>\n",
       "      <td>0.96</td>\n",
       "      <td>0.27</td>\n",
       "      <td>-0.88</td>\n",
       "      <td>-1.49</td>\n",
       "      <td>1.81</td>\n",
       "    </tr>\n",
       "    <tr>\n",
       "      <th>EE87788</th>\n",
       "      <td>-0.52</td>\n",
       "      <td>-1.56</td>\n",
       "      <td>-0.13</td>\n",
       "      <td>-0.22</td>\n",
       "      <td>0.47</td>\n",
       "      <td>0.94</td>\n",
       "      <td>0.09</td>\n",
       "      <td>-0.45</td>\n",
       "      <td>0.22</td>\n",
       "      <td>0.31</td>\n",
       "      <td>...</td>\n",
       "      <td>1.14</td>\n",
       "      <td>-2.10</td>\n",
       "      <td>0.09</td>\n",
       "      <td>-0.71</td>\n",
       "      <td>-0.08</td>\n",
       "      <td>-0.41</td>\n",
       "      <td>0.13</td>\n",
       "      <td>-1.29</td>\n",
       "      <td>0.14</td>\n",
       "      <td>-1.44</td>\n",
       "    </tr>\n",
       "    <tr>\n",
       "      <th>EE87789</th>\n",
       "      <td>-2.78</td>\n",
       "      <td>-1.38</td>\n",
       "      <td>0.19</td>\n",
       "      <td>0.14</td>\n",
       "      <td>1.24</td>\n",
       "      <td>2.05</td>\n",
       "      <td>-2.01</td>\n",
       "      <td>-0.98</td>\n",
       "      <td>0.22</td>\n",
       "      <td>0.67</td>\n",
       "      <td>...</td>\n",
       "      <td>0.59</td>\n",
       "      <td>-1.55</td>\n",
       "      <td>-1.89</td>\n",
       "      <td>1.93</td>\n",
       "      <td>-0.49</td>\n",
       "      <td>-0.72</td>\n",
       "      <td>0.05</td>\n",
       "      <td>0.00</td>\n",
       "      <td>-0.60</td>\n",
       "      <td>-0.51</td>\n",
       "    </tr>\n",
       "    <tr>\n",
       "      <th>EE87790</th>\n",
       "      <td>-6.92</td>\n",
       "      <td>-0.92</td>\n",
       "      <td>-2.07</td>\n",
       "      <td>-2.13</td>\n",
       "      <td>-0.05</td>\n",
       "      <td>3.22</td>\n",
       "      <td>-5.01</td>\n",
       "      <td>-0.43</td>\n",
       "      <td>-0.33</td>\n",
       "      <td>1.09</td>\n",
       "      <td>...</td>\n",
       "      <td>0.26</td>\n",
       "      <td>1.56</td>\n",
       "      <td>-1.70</td>\n",
       "      <td>5.06</td>\n",
       "      <td>-0.87</td>\n",
       "      <td>-0.90</td>\n",
       "      <td>-0.96</td>\n",
       "      <td>2.25</td>\n",
       "      <td>2.37</td>\n",
       "      <td>-0.71</td>\n",
       "    </tr>\n",
       "    <tr>\n",
       "      <th>...</th>\n",
       "      <td>...</td>\n",
       "      <td>...</td>\n",
       "      <td>...</td>\n",
       "      <td>...</td>\n",
       "      <td>...</td>\n",
       "      <td>...</td>\n",
       "      <td>...</td>\n",
       "      <td>...</td>\n",
       "      <td>...</td>\n",
       "      <td>...</td>\n",
       "      <td>...</td>\n",
       "      <td>...</td>\n",
       "      <td>...</td>\n",
       "      <td>...</td>\n",
       "      <td>...</td>\n",
       "      <td>...</td>\n",
       "      <td>...</td>\n",
       "      <td>...</td>\n",
       "      <td>...</td>\n",
       "      <td>...</td>\n",
       "      <td>...</td>\n",
       "    </tr>\n",
       "    <tr>\n",
       "      <th>EE88321</th>\n",
       "      <td>-5.41</td>\n",
       "      <td>-0.51</td>\n",
       "      <td>-2.30</td>\n",
       "      <td>-1.66</td>\n",
       "      <td>-2.87</td>\n",
       "      <td>3.07</td>\n",
       "      <td>-4.02</td>\n",
       "      <td>0.56</td>\n",
       "      <td>-1.48</td>\n",
       "      <td>-1.74</td>\n",
       "      <td>...</td>\n",
       "      <td>1.96</td>\n",
       "      <td>1.81</td>\n",
       "      <td>-2.49</td>\n",
       "      <td>3.68</td>\n",
       "      <td>-1.34</td>\n",
       "      <td>0.54</td>\n",
       "      <td>0.29</td>\n",
       "      <td>2.79</td>\n",
       "      <td>-0.81</td>\n",
       "      <td>-0.35</td>\n",
       "    </tr>\n",
       "    <tr>\n",
       "      <th>EE88322</th>\n",
       "      <td>-0.75</td>\n",
       "      <td>-0.43</td>\n",
       "      <td>-1.14</td>\n",
       "      <td>-1.56</td>\n",
       "      <td>-1.06</td>\n",
       "      <td>0.49</td>\n",
       "      <td>-0.49</td>\n",
       "      <td>-0.61</td>\n",
       "      <td>-1.41</td>\n",
       "      <td>-0.18</td>\n",
       "      <td>...</td>\n",
       "      <td>1.22</td>\n",
       "      <td>1.35</td>\n",
       "      <td>-0.44</td>\n",
       "      <td>0.86</td>\n",
       "      <td>-0.97</td>\n",
       "      <td>1.43</td>\n",
       "      <td>-0.64</td>\n",
       "      <td>-0.84</td>\n",
       "      <td>0.04</td>\n",
       "      <td>-0.19</td>\n",
       "    </tr>\n",
       "    <tr>\n",
       "      <th>EE88323</th>\n",
       "      <td>-3.63</td>\n",
       "      <td>0.02</td>\n",
       "      <td>-1.29</td>\n",
       "      <td>1.37</td>\n",
       "      <td>-0.69</td>\n",
       "      <td>1.11</td>\n",
       "      <td>-1.74</td>\n",
       "      <td>1.32</td>\n",
       "      <td>0.43</td>\n",
       "      <td>0.05</td>\n",
       "      <td>...</td>\n",
       "      <td>-1.28</td>\n",
       "      <td>-0.47</td>\n",
       "      <td>-0.56</td>\n",
       "      <td>2.38</td>\n",
       "      <td>-2.16</td>\n",
       "      <td>-2.12</td>\n",
       "      <td>-0.06</td>\n",
       "      <td>0.44</td>\n",
       "      <td>1.35</td>\n",
       "      <td>-1.72</td>\n",
       "    </tr>\n",
       "    <tr>\n",
       "      <th>EE88324</th>\n",
       "      <td>-0.32</td>\n",
       "      <td>1.91</td>\n",
       "      <td>-0.15</td>\n",
       "      <td>-1.45</td>\n",
       "      <td>-0.44</td>\n",
       "      <td>-0.41</td>\n",
       "      <td>0.30</td>\n",
       "      <td>1.20</td>\n",
       "      <td>1.02</td>\n",
       "      <td>-0.44</td>\n",
       "      <td>...</td>\n",
       "      <td>0.93</td>\n",
       "      <td>-0.78</td>\n",
       "      <td>1.00</td>\n",
       "      <td>0.33</td>\n",
       "      <td>-1.04</td>\n",
       "      <td>-0.65</td>\n",
       "      <td>0.79</td>\n",
       "      <td>-2.03</td>\n",
       "      <td>1.10</td>\n",
       "      <td>-1.51</td>\n",
       "    </tr>\n",
       "    <tr>\n",
       "      <th>EE88325</th>\n",
       "      <td>-7.01</td>\n",
       "      <td>-1.39</td>\n",
       "      <td>-1.30</td>\n",
       "      <td>0.75</td>\n",
       "      <td>-1.64</td>\n",
       "      <td>4.07</td>\n",
       "      <td>-7.23</td>\n",
       "      <td>-0.25</td>\n",
       "      <td>1.94</td>\n",
       "      <td>0.70</td>\n",
       "      <td>...</td>\n",
       "      <td>-0.66</td>\n",
       "      <td>1.21</td>\n",
       "      <td>-2.55</td>\n",
       "      <td>7.64</td>\n",
       "      <td>0.83</td>\n",
       "      <td>0.45</td>\n",
       "      <td>-3.10</td>\n",
       "      <td>1.87</td>\n",
       "      <td>4.13</td>\n",
       "      <td>-4.27</td>\n",
       "    </tr>\n",
       "  </tbody>\n",
       "</table>\n",
       "<p>482 rows × 26 columns</p>\n",
       "</div>"
      ],
      "text/plain": [
       "            Dip_area                                       \\\n",
       "region_set A549_hg38 HPF_lung_fibroblast_cluster1737_hg38   \n",
       "sample                                                      \n",
       "EE87786         0.76                                -0.10   \n",
       "EE87787        -2.16                                 1.22   \n",
       "EE87788        -0.52                                -1.56   \n",
       "EE87789        -2.78                                -1.38   \n",
       "EE87790        -6.92                                -0.92   \n",
       "...              ...                                  ...   \n",
       "EE88321        -5.41                                -0.51   \n",
       "EE88322        -0.75                                -0.43   \n",
       "EE88323        -3.63                                 0.02   \n",
       "EE88324        -0.32                                 1.91   \n",
       "EE88325        -7.01                                -1.39   \n",
       "\n",
       "                                                                  \\\n",
       "region_set HeLa_cluster1777_hg38 SAEC_hg38 colon_cluster507_hg38   \n",
       "sample                                                             \n",
       "EE87786                    -0.22     -0.78                  0.76   \n",
       "EE87787                    -2.49     -3.51                  0.84   \n",
       "EE87788                    -0.13     -0.22                  0.47   \n",
       "EE87789                     0.19      0.14                  1.24   \n",
       "EE87790                    -2.07     -2.13                 -0.05   \n",
       "...                          ...       ...                   ...   \n",
       "EE88321                    -2.30     -1.66                 -2.87   \n",
       "EE88322                    -1.14     -1.56                 -1.06   \n",
       "EE88323                    -1.29      1.37                 -0.69   \n",
       "EE88324                    -0.15     -1.45                 -0.44   \n",
       "EE88325                    -1.30      0.75                 -1.64   \n",
       "\n",
       "                                                                      \\\n",
       "region_set hematopoietic_specific_liquorice_hg38 hepatocyte_all_hg38   \n",
       "sample                                                                 \n",
       "EE87786                                    -0.50               -0.55   \n",
       "EE87787                                     1.25                1.52   \n",
       "EE87788                                     0.94                0.09   \n",
       "EE87789                                     2.05               -2.01   \n",
       "EE87790                                     3.22               -5.01   \n",
       "...                                          ...                 ...   \n",
       "EE88321                                     3.07               -4.02   \n",
       "EE88322                                     0.49               -0.49   \n",
       "EE88323                                     1.11               -1.74   \n",
       "EE88324                                    -0.41                0.30   \n",
       "EE88325                                     4.07               -7.23   \n",
       "\n",
       "                                                                               \\\n",
       "region_set mammary_epithel_cluster2438_hg38 melano_SOX_clusters1863_2205_hg38   \n",
       "sample                                                                          \n",
       "EE87786                                0.89                             -0.77   \n",
       "EE87787                               -1.04                              1.00   \n",
       "EE87788                               -0.45                              0.22   \n",
       "EE87789                               -0.98                              0.22   \n",
       "EE87790                               -0.43                             -0.33   \n",
       "...                                     ...                               ...   \n",
       "EE88321                                0.56                             -1.48   \n",
       "EE88322                               -0.61                             -1.41   \n",
       "EE88323                                1.32                              0.43   \n",
       "EE88324                                1.20                              1.02   \n",
       "EE88325                               -0.25                              1.94   \n",
       "\n",
       "                                          ... Dip_depth                        \\\n",
       "region_set panc_adenoca_cluster1261_hg38  ... SAEC_hg38 colon_cluster507_hg38   \n",
       "sample                                    ...                                   \n",
       "EE87786                            -0.61  ...      2.21                  1.84   \n",
       "EE87787                            -2.03  ...      3.28                  0.36   \n",
       "EE87788                             0.31  ...      1.14                 -2.10   \n",
       "EE87789                             0.67  ...      0.59                 -1.55   \n",
       "EE87790                             1.09  ...      0.26                  1.56   \n",
       "...                                  ...  ...       ...                   ...   \n",
       "EE88321                            -1.74  ...      1.96                  1.81   \n",
       "EE88322                            -0.18  ...      1.22                  1.35   \n",
       "EE88323                             0.05  ...     -1.28                 -0.47   \n",
       "EE88324                            -0.44  ...      0.93                 -0.78   \n",
       "EE88325                             0.70  ...     -0.66                  1.21   \n",
       "\n",
       "                                                                      \\\n",
       "region_set hematopoietic_specific_liquorice_hg38 hepatocyte_all_hg38   \n",
       "sample                                                                 \n",
       "EE87786                                     0.38                0.78   \n",
       "EE87787                                     0.01                0.54   \n",
       "EE87788                                     0.09               -0.71   \n",
       "EE87789                                    -1.89                1.93   \n",
       "EE87790                                    -1.70                5.06   \n",
       "...                                          ...                 ...   \n",
       "EE88321                                    -2.49                3.68   \n",
       "EE88322                                    -0.44                0.86   \n",
       "EE88323                                    -0.56                2.38   \n",
       "EE88324                                     1.00                0.33   \n",
       "EE88325                                    -2.55                7.64   \n",
       "\n",
       "                                                                               \\\n",
       "region_set mammary_epithel_cluster2438_hg38 melano_SOX_clusters1863_2205_hg38   \n",
       "sample                                                                          \n",
       "EE87786                                0.82                              2.29   \n",
       "EE87787                                0.58                              0.96   \n",
       "EE87788                               -0.08                             -0.41   \n",
       "EE87789                               -0.49                             -0.72   \n",
       "EE87790                               -0.87                             -0.90   \n",
       "...                                     ...                               ...   \n",
       "EE88321                               -1.34                              0.54   \n",
       "EE88322                               -0.97                              1.43   \n",
       "EE88323                               -2.16                             -2.12   \n",
       "EE88324                               -1.04                             -0.65   \n",
       "EE88325                                0.83                              0.45   \n",
       "\n",
       "                                                                        \\\n",
       "region_set panc_adenoca_cluster1261_hg38 panc_epithel_cluster1974_hg38   \n",
       "sample                                                                   \n",
       "EE87786                             1.03                          0.72   \n",
       "EE87787                             0.27                         -0.88   \n",
       "EE87788                             0.13                         -1.29   \n",
       "EE87789                             0.05                          0.00   \n",
       "EE87790                            -0.96                          2.25   \n",
       "...                                  ...                           ...   \n",
       "EE88321                             0.29                          2.79   \n",
       "EE88322                            -0.64                         -0.84   \n",
       "EE88323                            -0.06                          0.44   \n",
       "EE88324                             0.79                         -2.03   \n",
       "EE88325                            -3.10                          1.87   \n",
       "\n",
       "                                                                       \n",
       "region_set prostate_cluster2483_hg38 skeletal_muscle_cluster1518_hg38  \n",
       "sample                                                                 \n",
       "EE87786                         0.47                            -0.71  \n",
       "EE87787                        -1.49                             1.81  \n",
       "EE87788                         0.14                            -1.44  \n",
       "EE87789                        -0.60                            -0.51  \n",
       "EE87790                         2.37                            -0.71  \n",
       "...                              ...                              ...  \n",
       "EE88321                        -0.81                            -0.35  \n",
       "EE88322                         0.04                            -0.19  \n",
       "EE88323                         1.35                            -1.72  \n",
       "EE88324                         1.10                            -1.51  \n",
       "EE88325                         4.13                            -4.27  \n",
       "\n",
       "[482 rows x 26 columns]"
      ]
     },
     "execution_count": 6,
     "metadata": {},
     "output_type": "execute_result"
    }
   ],
   "source": [
    "features\n"
   ]
  },
  {
   "cell_type": "code",
   "execution_count": null,
   "id": "11c748a0",
   "metadata": {},
   "outputs": [],
   "source": [
    "# drop row that is to much and index lalala"
   ]
  }
 ],
 "metadata": {
  "kernelspec": {
   "display_name": "Python 3 (ipykernel)",
   "language": "python",
   "name": "python3"
  },
  "language_info": {
   "codemirror_mode": {
    "name": "ipython",
    "version": 3
   },
   "file_extension": ".py",
   "mimetype": "text/x-python",
   "name": "python",
   "nbconvert_exporter": "python",
   "pygments_lexer": "ipython3",
   "version": "3.9.12"
  }
 },
 "nbformat": 4,
 "nbformat_minor": 5
}
